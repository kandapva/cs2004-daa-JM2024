{
  "nbformat": 4,
  "nbformat_minor": 0,
  "metadata": {
    "colab": {
      "private_outputs": true,
      "provenance": []
    },
    "kernelspec": {
      "name": "python3",
      "display_name": "Python 3"
    },
    "language_info": {
      "name": "python"
    }
  },
  "cells": [
    {
      "cell_type": "markdown",
      "source": [
        "# Lecture 1\n",
        "\n",
        "1) Evaluating a polynomial.\n",
        "- Naive method\n",
        "- Divide and Conquer approach\n",
        "- Horner's Method\n",
        "\n",
        "2) Example functions for Big-O"
      ],
      "metadata": {
        "id": "XpH9hO_15Fcj"
      }
    },
    {
      "cell_type": "code",
      "source": [
        "# Genrating a random co-efficient for an 'n' degree polynomial\n",
        "import random\n",
        "\n",
        "def generate_random_list(n):\n",
        "  pol_coeff=[]\n",
        "  for i in range(n):\n",
        "    pol_coeff.append(random.randint(1,n+10))\n",
        "  return pol_coeff\n"
      ],
      "metadata": {
        "id": "UDCpC6DfZIJw"
      },
      "execution_count": null,
      "outputs": []
    },
    {
      "cell_type": "markdown",
      "source": [
        "## 1) Evaluating a polynomial"
      ],
      "metadata": {
        "id": "D45LdTZT6BXS"
      }
    },
    {
      "cell_type": "code",
      "execution_count": null,
      "metadata": {
        "id": "HFBfdEndYTco"
      },
      "outputs": [],
      "source": [
        "# Method 1: (Naive implementation of power)\n",
        "def power_1(base, exponent):\n",
        "  result = 1\n",
        "  for i in range(exponent):\n",
        "    result *= base\n",
        "  return result\n",
        "\n",
        "def evaluate_poly_1(pol_coeff, x, iter):\n",
        "  for j in range(0,iter):\n",
        "    p_x = 0.0\n",
        "    for i in range(0,len(pol_coeff)):\n",
        "      p_x = p_x + pol_coeff[i]*power_1(x,i)\n",
        "  return p_x"
      ]
    },
    {
      "cell_type": "code",
      "source": [
        "# Method 2: (!! Tricky and Faster method)\n",
        "def power_2(base, exponent):\n",
        "  res = 1\n",
        "  while (exponent > 0):\n",
        "    if ((exponent & 1) == 1) :\n",
        "      res = res * base\n",
        "    exponent = exponent >> 1\n",
        "    base = base * base\n",
        "  return res\n",
        "\n",
        "def evaluate_poly_2(pol_coeff, x, iter):\n",
        "  for j in range(0, iter):\n",
        "    p_x = 0.0\n",
        "    for i in range(0,len(pol_coeff)):\n",
        "      p_x = p_x + pol_coeff[i]*power_2(x,i)\n",
        "  return p_x"
      ],
      "metadata": {
        "id": "gNpdUOCPaxIt"
      },
      "execution_count": null,
      "outputs": []
    },
    {
      "cell_type": "code",
      "source": [
        "# Method 3: Horner's Method (!! Fastest)\n",
        "def evaluate_poly_3(pol_coeff, x, iter):\n",
        "  for j in range(0, iter):\n",
        "    n = len(pol_coeff)-1\n",
        "    p_x = pol_coeff[n]\n",
        "    while(n>=0):\n",
        "      n = n-1\n",
        "      p_x = p_x*x + pol_coeff[n]\n",
        "  return p_x\n",
        "\n",
        "\n",
        "\n",
        "%timeit evaluate_poly_1(generate_random_list(100),2,1000)\n",
        "%timeit evaluate_poly_2(generate_random_list(100),2,1000)\n",
        "%timeit evaluate_poly_3(generate_random_list(100),2,1000)"
      ],
      "metadata": {
        "id": "gcs0V5IIb7fw"
      },
      "execution_count": null,
      "outputs": []
    },
    {
      "cell_type": "code",
      "source": [
        "import time\n",
        "\n",
        "n_val = [10,100,500,1000,2500]\n",
        "method1 = []\n",
        "method2 = []\n",
        "method3 = []\n",
        "for it in n_val:\n",
        "  print(\"N =\",it)\n",
        "  t_start = time.time()\n",
        "  evaluate_poly_1(generate_random_list(it),1.1,10)\n",
        "  t_end = time.time()\n",
        "  method1.append((t_end-t_start)/10)\n",
        "  print(\"Method 1 took \" , method1[-1] , \"s\")\n",
        "\n",
        "  t_start = time.time()\n",
        "  evaluate_poly_2(generate_random_list(it),1.1,10)\n",
        "  t_end = time.time()\n",
        "  method2.append((t_end-t_start)/10)\n",
        "  print(\"Method 2 took \" , method2[-1]  , \"s\")\n",
        "\n",
        "  t_start = time.time()\n",
        "  evaluate_poly_3(generate_random_list(it),1.1,10)\n",
        "  t_end = time.time()\n",
        "  method3.append((t_end-t_start)/10)\n",
        "  print(\"Method 3 took \" , method3[-1]  , \"s\")"
      ],
      "metadata": {
        "id": "ZiagjUzJfJNq"
      },
      "execution_count": null,
      "outputs": []
    },
    {
      "cell_type": "code",
      "source": [
        "import matplotlib.pyplot as plt\n",
        "\n",
        "plt.loglog(n_val, method1, n_val, method2,n_val, method3)\n",
        "plt.xlabel(\"Degree of the polynomial\")\n",
        "plt.ylabel(\"Average running time (in s)\")\n",
        "plt.legend([\"Method 1:O($N^2$)\", \"Method 2:O($Nlog(N)$)\", \"Method 3:O($N$)\"], loc =\"lower right\")\n",
        "plt.grid(color = 'green', linestyle = '--', linewidth = 0.5)\n",
        "plt.show()"
      ],
      "metadata": {
        "id": "9dq1j-afhBYF"
      },
      "execution_count": null,
      "outputs": []
    },
    {
      "cell_type": "code",
      "source": [
        "import math\n",
        "N = [10, 100, 1000, 10000, 100000, 1000000]\n",
        "N2 = [5, 10, 15, 20]\n",
        "f1 = [math.log(x,10) for x in N]\n",
        "f2 = [math.pow(2,x) for x in N2]\n",
        "f3 = [x*x for x in N]\n",
        "f4 = [math.exp(10),math.exp(100)]\n",
        "# Show how big N! is\n",
        "f5 = [3628800,\n",
        "      93326215443944152681699238856266700490715968264381621468592963895217599993229915608941463976156518286253697920827223758251185210916864000000000000000000000000]\n",
        "\n",
        "plt.subplot(2, 2, 1)\n",
        "plt.loglog(N,N)\n",
        "plt.grid(color = 'green', linestyle = '--', linewidth = 0.5)\n",
        "plt.subplot(2, 2, 2)\n",
        "plt.loglog(N,f1)\n",
        "plt.grid(color = 'green', linestyle = '--', linewidth = 0.5)\n",
        "plt.subplot(2, 2, 3)\n",
        "plt.loglog(N2,f2)\n",
        "plt.grid(color = 'green', linestyle = '--', linewidth = 0.5)\n",
        "plt.subplot(2, 2, 4)\n",
        "plt.loglog(N,f3)\n",
        "plt.grid(color = 'green', linestyle = '--', linewidth = 0.5)\n",
        "# plt.loglog(N, N, N,f1,N,f2,N,f3)\n",
        "\n",
        "plt.show()"
      ],
      "metadata": {
        "id": "OUfl8zbamxmb"
      },
      "execution_count": null,
      "outputs": []
    },
    {
      "cell_type": "markdown",
      "source": [
        "## 2) Asymptotic Analysis"
      ],
      "metadata": {
        "id": "CsJLBfOp55qC"
      }
    },
    {
      "cell_type": "code",
      "source": [
        "## Asymptotic Analysis\n",
        "import numpy as np"
      ],
      "metadata": {
        "id": "ED057ilOUSK1"
      },
      "execution_count": null,
      "outputs": []
    },
    {
      "cell_type": "code",
      "source": [
        "# Big-O notation:\n",
        "\n",
        "def C1(x):\n",
        "  return x**2\n",
        "\n",
        "def C2(x):\n",
        "  return 3*x**2\n",
        "\n",
        "def f1(x):\n",
        "  return x**2 + 1400*x + 230\n",
        "\n",
        "x = np.linspace(100,1000,100)\n",
        "y1 = C1(x)\n",
        "y2 = f1(x)\n",
        "y3 = C2(x)\n",
        "\n",
        "plt.subplot(2, 1, 1)\n",
        "plt.plot(x,y1,'r',x,y2,'b')\n",
        "plt.legend([\"n^2\",\"n^2 + 1400*n + 230\"])\n",
        "plt.grid(color = 'green', linestyle = '--', linewidth = 0.5)\n",
        "plt.subplot(2, 1, 2)\n",
        "plt.plot(x,y2,'r',x,y3,'b')\n",
        "plt.legend([\"n^2 + 1400*n + 230\",\"cn^2\"])\n",
        "plt.grid(color = 'green', linestyle = '--', linewidth = 0.5)"
      ],
      "metadata": {
        "id": "MIW3YEtXz-DK"
      },
      "execution_count": null,
      "outputs": []
    },
    {
      "cell_type": "code",
      "source": [],
      "metadata": {
        "id": "p73TwZWETxos"
      },
      "execution_count": null,
      "outputs": []
    }
  ]
}